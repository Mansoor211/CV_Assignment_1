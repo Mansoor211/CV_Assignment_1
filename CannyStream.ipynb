{
 "cells": [
  {
   "cell_type": "code",
   "execution_count": 13,
   "metadata": {
    "colab": {
     "base_uri": "https://localhost:8080/",
     "height": 439
    },
    "colab_type": "code",
    "executionInfo": {
     "elapsed": 915,
     "status": "ok",
     "timestamp": 1581889428063,
     "user": {
      "displayName": "Mansoor Khurshid",
      "photoUrl": "https://lh3.googleusercontent.com/a-/AAuE7mDRbDk2VrHO977xrJD5ghAWREY2xYlRmXpjNa_f=s64",
      "userId": "02732024992922358303"
     },
     "user_tz": -300
    },
    "id": "U4wZ22iQY-9C",
    "outputId": "2ddf7914-1dbe-4098-de84-d4ac79cbbd06"
   },
   "outputs": [],
   "source": [
    "import matplotlib.image as mpimg\n",
    "import matplotlib.pyplot as plt\n",
    "import numpy as np\n",
    "import cv2\n",
    "\n",
    "# This program is reading frames from a stream of video from file\n",
    "# Showing orignal and canny edge video in 2 windows\n",
    "def cannyEdgeDetect(frame):   \n",
    "    gray = cv2.cvtColor(frame, cv2.COLOR_BGR2GRAY)\n",
    "    edges = cv2.Canny(gray, 20, 200)\n",
    "    return edges\n",
    "\n",
    "\n",
    "frames = cv2.VideoCapture('inception.mp4')\n",
    "\n",
    "while True:\n",
    "    ret, frame = frames.read()   \n",
    "    cv2.namedWindow(\"Video\", cv2.WINDOW_NORMAL)        \n",
    "    cv2.resizeWindow(\"Video\", 800, 600) \n",
    "    cv2.namedWindow(\"Canny\", cv2.WINDOW_NORMAL)        \n",
    "    cv2.resizeWindow(\"Canny\", 900, 600) \n",
    "    cv2.imshow('Canny', cannyEdgeDetect(frame))\n",
    "    cv2.imshow('Video', frame)\n",
    "    #Press spacebar to stop\n",
    "    if cv2.waitKey(1) == 32: \n",
    "        break\n",
    "        \n",
    "frames.release()\n",
    "cv2.destroyAllWindows()"
   ]
  },
  {
   "cell_type": "code",
   "execution_count": null,
   "metadata": {},
   "outputs": [],
   "source": []
  },
  {
   "cell_type": "code",
   "execution_count": null,
   "metadata": {},
   "outputs": [],
   "source": []
  }
 ],
 "metadata": {
  "colab": {
   "authorship_tag": "ABX9TyORPpuc85/Va4cQHsb07YZ0",
   "collapsed_sections": [],
   "name": "myfirstNN.ipynb",
   "provenance": []
  },
  "kernelspec": {
   "display_name": "Python 3",
   "language": "python",
   "name": "python3"
  },
  "language_info": {
   "codemirror_mode": {
    "name": "ipython",
    "version": 3
   },
   "file_extension": ".py",
   "mimetype": "text/x-python",
   "name": "python",
   "nbconvert_exporter": "python",
   "pygments_lexer": "ipython3",
   "version": "3.7.5"
  }
 },
 "nbformat": 4,
 "nbformat_minor": 1
}
